{
 "cells": [
  {
   "cell_type": "code",
   "execution_count": 6,
   "metadata": {},
   "outputs": [
    {
     "data": {
      "text/plain": [
       "<module 'okex_gateway' from '/home/zed/workspace/crypto/vnpy_okex/vnpy_okex/okex_gateway.py'>"
      ]
     },
     "execution_count": 6,
     "metadata": {},
     "output_type": "execute_result"
    }
   ],
   "source": [
    "import okex_gateway\n",
    "from okex_gateway import *\n",
    "import imp\n",
    "imp.reload(okex_gateway)"
   ]
  },
  {
   "cell_type": "code",
   "execution_count": 7,
   "metadata": {},
   "outputs": [],
   "source": [
    "engine = OkexWebsocketPrivateApi(OkexGateway)"
   ]
  },
  {
   "cell_type": "code",
   "execution_count": 8,
   "metadata": {},
   "outputs": [
    {
     "name": "stderr",
     "output_type": "stream",
     "text": [
      "Unclosed client session\n",
      "client_session: <aiohttp.client.ClientSession object at 0x7fc8e89dc4c0>\n",
      "Unclosed connection\n",
      "client_connection: Connection<ConnectionKey(host='wspap.okx.com', port=8443, is_ssl=True, ssl=False, proxy=URL(''), proxy_auth=None, proxy_headers_hash=None)>\n"
     ]
    }
   ],
   "source": [
    "config = {\n",
    "    \"key\":\"5e3e9503-35a8-4626-a4ff-095c69109e40\",\n",
    "    \"secret\":\"FF492EEB3396D13999713D9026E3C823\",\n",
    "    \"passphrase\": \"Aa123456\",\n",
    "    \"proxy_host\": \"127.0.0.1\",\n",
    "    \"proxy_port\": \"80\",\n",
    "    \"server\": [\"REST\",\"TEST\"]\n",
    "}\n",
    "engine.connect('5e3e9503-35a8-4626-a4ff-095c69109e40','FF492EEB3396D13999713D9026E3C823','Aa123456','','','TEST')"
   ]
  },
  {
   "cell_type": "code",
   "execution_count": 4,
   "metadata": {},
   "outputs": [],
   "source": [
    "engine.login()"
   ]
  },
  {
   "cell_type": "code",
   "execution_count": 5,
   "metadata": {},
   "outputs": [],
   "source": [
    "engine.subscribe_topic()"
   ]
  },
  {
   "cell_type": "code",
   "execution_count": null,
   "metadata": {},
   "outputs": [],
   "source": []
  }
 ],
 "metadata": {
  "interpreter": {
   "hash": "5967be00417c68391cd83d0e9e0075ca3214d5cf874a340569003a1d53e401e9"
  },
  "kernelspec": {
   "display_name": "Python 3.9.7 ('base')",
   "language": "python",
   "name": "python3"
  },
  "language_info": {
   "codemirror_mode": {
    "name": "ipython",
    "version": 3
   },
   "file_extension": ".py",
   "mimetype": "text/x-python",
   "name": "python",
   "nbconvert_exporter": "python",
   "pygments_lexer": "ipython3",
   "version": "3.9.7"
  },
  "orig_nbformat": 4
 },
 "nbformat": 4,
 "nbformat_minor": 2
}
